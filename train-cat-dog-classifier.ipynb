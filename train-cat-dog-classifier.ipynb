{
 "cells": [
  {
   "cell_type": "markdown",
   "metadata": {},
   "source": [
    "1. Ref: https://www.kaggle.com/bavalpreet26/cnn-tutorial-keras-nb2\n",
    "2. dataset: https://www.kaggle.com/tongpython/cat-and-dog/notebooks?datasetId=23777&sortBy=voteCount"
   ]
  },
  {
   "cell_type": "code",
   "execution_count": 1,
   "metadata": {},
   "outputs": [],
   "source": [
    "import numpy as np\n",
    "import tensorflow as tf\n",
    "from tensorflow import keras\n",
    "from tensorflow.keras import layers\n",
    "from tensorflow.keras.preprocessing.image import ImageDataGenerator\n",
    "import matplotlib.pyplot as plt"
   ]
  },
  {
   "cell_type": "code",
   "execution_count": 2,
   "metadata": {},
   "outputs": [],
   "source": [
    "classes = ['cats', 'dogs']\n",
    "train_path = 'dataset/training_set/'\n",
    "test_path = 'dataset/test_set/'\n",
    "lr = 0.0001\n",
    "epochs = 50\n",
    "algorithm = 'Vgg'"
   ]
  },
  {
   "cell_type": "code",
   "execution_count": 3,
   "metadata": {},
   "outputs": [
    {
     "name": "stdout",
     "output_type": "stream",
     "text": [
      "Found 8005 images belonging to 2 classes.\n",
      "Found 2023 images belonging to 2 classes.\n"
     ]
    }
   ],
   "source": [
    "train_batches = ImageDataGenerator(\n",
    "    preprocessing_function=tf.keras.applications.vgg16.preprocess_input) \\\n",
    "    .flow_from_directory(\n",
    "    directory=train_path,\n",
    "    target_size=(224,224),\n",
    "    classes=['cats', 'dogs'],\n",
    "    batch_size=10, shuffle=True)\n",
    "test_batches = ImageDataGenerator(preprocessing_function=tf.keras.applications.vgg16.preprocess_input) \\\n",
    "    .flow_from_directory(\n",
    "    directory=test_path,\n",
    "    target_size=(224,224),\n",
    "    classes=['cats', 'dogs'],\n",
    "    batch_size=10, shuffle=False)"
   ]
  },
  {
   "cell_type": "code",
   "execution_count": 4,
   "metadata": {},
   "outputs": [
    {
     "name": "stderr",
     "output_type": "stream",
     "text": [
      "Clipping input data to the valid range for imshow with RGB data ([0..1] for floats or [0..255] for integers).\n",
      "Clipping input data to the valid range for imshow with RGB data ([0..1] for floats or [0..255] for integers).\n",
      "Clipping input data to the valid range for imshow with RGB data ([0..1] for floats or [0..255] for integers).\n",
      "Clipping input data to the valid range for imshow with RGB data ([0..1] for floats or [0..255] for integers).\n",
      "Clipping input data to the valid range for imshow with RGB data ([0..1] for floats or [0..255] for integers).\n",
      "Clipping input data to the valid range for imshow with RGB data ([0..1] for floats or [0..255] for integers).\n",
      "Clipping input data to the valid range for imshow with RGB data ([0..1] for floats or [0..255] for integers).\n",
      "Clipping input data to the valid range for imshow with RGB data ([0..1] for floats or [0..255] for integers).\n",
      "Clipping input data to the valid range for imshow with RGB data ([0..1] for floats or [0..255] for integers).\n",
      "Clipping input data to the valid range for imshow with RGB data ([0..1] for floats or [0..255] for integers).\n"
     ]
    },
    {
     "data": {
      "image/png": "[encoded data removed]",
      "text/plain": [
       "<Figure size 360x360 with 10 Axes>"
      ]
     },
     "metadata": {},
     "output_type": "display_data"
    },
    {
     "name": "stdout",
     "output_type": "stream",
     "text": [
      "[[0. 1.]\n",
      " [0. 1.]\n",
      " [0. 1.]\n",
      " [1. 0.]\n",
      " [0. 1.]\n",
      " [0. 1.]\n",
      " [0. 1.]\n",
      " [1. 0.]\n",
      " [0. 1.]\n",
      " [1. 0.]]\n"
     ]
    }
   ],
   "source": [
    "def plotImages(images):\n",
    "    plt.figure(figsize=(5,5))\n",
    "    for i in range(len(images)):\n",
    "        plt.subplot(5,8,i+1)\n",
    "        plt.xticks([])\n",
    "        plt.yticks([])\n",
    "        plt.grid(False)\n",
    "        plt.imshow(images[i])  \n",
    "    plt.tight_layout()     \n",
    "    plt.show()   \n",
    "imgs, labels = next(train_batches)\n",
    "plotImages(imgs)\n",
    "print(labels)"
   ]
  },
  {
   "cell_type": "code",
   "execution_count": 5,
   "metadata": {},
   "outputs": [],
   "source": [
    "def get_model(name):\n",
    "    if name == '1':\n",
    "        inputs = keras.Input(shape=(224,224,3), name=\"images-input\")\n",
    "        x = layers.Conv2D(32, 3, activation='relu', padding='same')(inputs)\n",
    "        x = layers.MaxPool2D(pool_size=2, strides=2)(x)\n",
    "        x = layers.Conv2D(64, 3, activation='relu', padding='same')(x)\n",
    "        x = layers.MaxPool2D(pool_size=2, strides=2)(x)\n",
    "        x = layers.Flatten()(x)\n",
    "        outputs = layers.Dense(units=2, activation='softmax')(x)\n",
    "        model = keras.Model(inputs, outputs, name='conv3_classifier')\n",
    "    elif name == 'Resnet':\n",
    "        inputs = keras.Input(shape=(224,224,3), name=\"images-input\")\n",
    "        x = layers.Conv2D(64, 3, activation=\"relu\", padding=\"same\", strides=1)(inputs)\n",
    "        x = layers.Conv2D(64, 3, activation=\"relu\", padding=\"same\", strides=1)(x)\n",
    "        x = layers.MaxPooling2D(pool_size=(2, 2),strides=(2, 2), padding=\"valid\")(x)\n",
    "\n",
    "        x = layers.Conv2D(128, 3, activation=\"relu\", padding=\"same\", strides=1)(x)\n",
    "        x = layers.Conv2D(128, 3, activation=\"relu\", padding=\"same\", strides=1)(x)\n",
    "        x = layers.MaxPooling2D(pool_size=(2, 2),strides=(2, 2), padding=\"valid\")(x)\n",
    "\n",
    "        x = layers.Conv2D(256, 3, activation=\"relu\", padding=\"same\", strides=1)(x)\n",
    "        x = layers.Conv2D(256, 3, activation=\"relu\", padding=\"same\", strides=1)(x)\n",
    "        x = layers.Conv2D(256, 3, activation=\"relu\", padding=\"same\", strides=1)(x)\n",
    "        x = layers.MaxPooling2D(pool_size=(2, 2),strides=(2, 2), padding=\"valid\")(x)\n",
    "\n",
    "        x = layers.Conv2D(512, 3, activation=\"relu\", padding=\"same\", strides=1)(x)\n",
    "        x = layers.Conv2D(512, 3, activation=\"relu\", padding=\"same\", strides=1)(x)\n",
    "        x = layers.Conv2D(512, 3, activation=\"relu\", padding=\"same\", strides=1)(x)\n",
    "        x = layers.MaxPooling2D(pool_size=(2, 2),strides=(2, 2), padding=\"valid\")(x)\n",
    "\n",
    "        x = layers.Conv2D(512, 3, activation=\"relu\", padding=\"same\", strides=1)(x)\n",
    "        x = layers.Conv2D(512, 3, activation=\"relu\", padding=\"same\", strides=1)(x)\n",
    "        x = layers.Conv2D(512, 3, activation=\"relu\", padding=\"same\", strides=1)(x)\n",
    "        x = layers.MaxPooling2D(pool_size=(2, 2), strides=(2, 2), padding=\"valid\")(x)\n",
    "        \n",
    "        x = layers.Flatten()(x)\n",
    "        x = layers.Dense(4096, activation=\"relu\")(x)\n",
    "        x = layers.Dense(4096, activation=\"relu\")(x)\n",
    "        outputs = layers.Dense(2, activation=\"softmax\")(x)\n",
    "        model = keras.Model(inputs, outputs, name='Resnet_classifier')\n",
    "    elif name=='Vgg':\n",
    "        inputs = keras.Input(shape=(224,224,3), name=\"images-input\")\n",
    "        x = layers.Conv2D(64, 3, activation=\"relu\", padding=\"same\", strides=1)(inputs)\n",
    "        x = layers.Conv2D(64, 3, activation=\"relu\", padding=\"same\", strides=1)(x)\n",
    "        x = layers.MaxPooling2D(pool_size=(2, 2),strides=(2, 2), padding=\"valid\")(x)\n",
    "\n",
    "        x = layers.Conv2D(128, 3, activation=\"relu\", padding=\"same\", strides=1)(x)\n",
    "        x = layers.Conv2D(128, 3, activation=\"relu\", padding=\"same\", strides=1)(x)\n",
    "        x = layers.MaxPooling2D(pool_size=(2, 2),strides=(2, 2), padding=\"valid\")(x)\n",
    "\n",
    "        x = layers.Conv2D(256, 3, activation=\"relu\", padding=\"same\", strides=1)(x)\n",
    "        x = layers.Conv2D(256, 3, activation=\"relu\", padding=\"same\", strides=1)(x)\n",
    "        x = layers.Conv2D(256, 3, activation=\"relu\", padding=\"same\", strides=1)(x)\n",
    "        x = layers.MaxPooling2D(pool_size=(2, 2),strides=(2, 2), padding=\"valid\")(x)\n",
    "\n",
    "        x = layers.Conv2D(512, 3, activation=\"relu\", padding=\"same\", strides=1)(x)\n",
    "        x = layers.Conv2D(512, 3, activation=\"relu\", padding=\"same\", strides=1)(x)\n",
    "        x = layers.Conv2D(512, 3, activation=\"relu\", padding=\"same\", strides=1)(x)\n",
    "        x = layers.MaxPooling2D(pool_size=(2, 2),strides=(2, 2), padding=\"valid\")(x)\n",
    "\n",
    "        x = layers.Conv2D(512, 3, activation=\"relu\", padding=\"same\", strides=1)(x)\n",
    "        x = layers.Conv2D(512, 3, activation=\"relu\", padding=\"same\", strides=1)(x)\n",
    "        x = layers.Conv2D(512, 3, activation=\"relu\", padding=\"same\", strides=1)(x)\n",
    "        x = layers.MaxPooling2D(pool_size=(2, 2), strides=(2, 2), padding=\"valid\")(x)\n",
    "\n",
    "        x = layers.Flatten()(x)\n",
    "        x = layers.Dense(4096, activation=\"relu\")(x)\n",
    "        x = layers.Dense(4096, activation=\"relu\")(x)\n",
    "        outputs = layers.Dense(2, activation=\"softmax\")(x)\n",
    "        model = keras.Model(inputs, outputs, name='Vgg_classifier')\n",
    "    else:\n",
    "        raise RuntimeError('error')       \n",
    "    return model\n",
    "    "
   ]
  },
  {
   "cell_type": "code",
   "execution_count": 6,
   "metadata": {},
   "outputs": [
    {
     "name": "stdout",
     "output_type": "stream",
     "text": [
      "Model: \"Vgg_classifier\"\n",
      "_________________________________________________________________\n",
      "Layer (type)                 Output Shape              Param #   \n",
      "=================================================================\n",
      "images-input (InputLayer)    [(None, 224, 224, 3)]     0         \n",
      "_________________________________________________________________\n",
      "conv2d (Conv2D)              (None, 224, 224, 64)      1792      \n",
      "_________________________________________________________________\n",
      "conv2d_1 (Conv2D)            (None, 224, 224, 64)      36928     \n",
      "_________________________________________________________________\n",
      "max_pooling2d (MaxPooling2D) (None, 112, 112, 64)      0         \n",
      "_________________________________________________________________\n",
      "conv2d_2 (Conv2D)            (None, 112, 112, 128)     73856     \n",
      "_________________________________________________________________\n",
      "conv2d_3 (Conv2D)            (None, 112, 112, 128)     147584    \n",
      "_________________________________________________________________\n",
      "max_pooling2d_1 (MaxPooling2 (None, 56, 56, 128)       0         \n",
      "_________________________________________________________________\n",
      "conv2d_4 (Conv2D)            (None, 56, 56, 256)       295168    \n",
      "_________________________________________________________________\n",
      "conv2d_5 (Conv2D)            (None, 56, 56, 256)       590080    \n",
      "_________________________________________________________________\n",
      "conv2d_6 (Conv2D)            (None, 56, 56, 256)       590080    \n",
      "_________________________________________________________________\n",
      "max_pooling2d_2 (MaxPooling2 (None, 28, 28, 256)       0         \n",
      "_________________________________________________________________\n",
      "conv2d_7 (Conv2D)            (None, 28, 28, 512)       1180160   \n",
      "_________________________________________________________________\n",
      "conv2d_8 (Conv2D)            (None, 28, 28, 512)       2359808   \n",
      "_________________________________________________________________\n",
      "conv2d_9 (Conv2D)            (None, 28, 28, 512)       2359808   \n",
      "_________________________________________________________________\n",
      "max_pooling2d_3 (MaxPooling2 (None, 14, 14, 512)       0         \n",
      "_________________________________________________________________\n",
      "conv2d_10 (Conv2D)           (None, 14, 14, 512)       2359808   \n",
      "_________________________________________________________________\n",
      "conv2d_11 (Conv2D)           (None, 14, 14, 512)       2359808   \n",
      "_________________________________________________________________\n",
      "conv2d_12 (Conv2D)           (None, 14, 14, 512)       2359808   \n",
      "_________________________________________________________________\n",
      "max_pooling2d_4 (MaxPooling2 (None, 7, 7, 512)         0         \n",
      "_________________________________________________________________\n",
      "flatten (Flatten)            (None, 25088)             0         \n",
      "_________________________________________________________________\n",
      "dense (Dense)                (None, 4096)              102764544 \n",
      "_________________________________________________________________\n",
      "dense_1 (Dense)              (None, 4096)              16781312  \n",
      "_________________________________________________________________\n",
      "dense_2 (Dense)              (None, 2)                 8194      \n",
      "=================================================================\n",
      "Total params: 134,268,738\n",
      "Trainable params: 134,268,738\n",
      "Non-trainable params: 0\n",
      "_________________________________________________________________\n"
     ]
    }
   ],
   "source": [
    "model = get_model(algorithm)\n",
    "model.summary()"
   ]
  },
  {
   "cell_type": "code",
   "execution_count": 7,
   "metadata": {},
   "outputs": [
    {
     "name": "stdout",
     "output_type": "stream",
     "text": [
      "WARNING:tensorflow:sample_weight modes were coerced from\n",
      "  ...\n",
      "    to  \n",
      "  ['...']\n",
      "Train for 801 steps\n",
      "Epoch 1/50\n",
      "801/801 [==============================] - 68s 85ms/step - loss: 0.7005 - accuracy: 0.5088\n",
      "Epoch 2/50\n",
      "801/801 [==============================] - 63s 78ms/step - loss: 0.6930 - accuracy: 0.5187\n",
      "Epoch 3/50\n",
      "801/801 [==============================] - 62s 78ms/step - loss: 0.6965 - accuracy: 0.5324\n",
      "Epoch 4/50\n",
      "801/801 [==============================] - 63s 78ms/step - loss: 0.6879 - accuracy: 0.5467\n",
      "Epoch 5/50\n",
      "801/801 [==============================] - 63s 78ms/step - loss: 0.6730 - accuracy: 0.5898\n",
      "Epoch 6/50\n",
      "801/801 [==============================] - 63s 78ms/step - loss: 0.6155 - accuracy: 0.6611\n",
      "Epoch 7/50\n",
      "801/801 [==============================] - 63s 78ms/step - loss: 0.5593 - accuracy: 0.7132\n",
      "Epoch 8/50\n",
      "801/801 [==============================] - 63s 78ms/step - loss: 0.5082 - accuracy: 0.7544\n",
      "Epoch 9/50\n",
      "801/801 [==============================] - 63s 78ms/step - loss: 0.4506 - accuracy: 0.7900\n",
      "Epoch 10/50\n",
      "801/801 [==============================] - 63s 78ms/step - loss: 0.3993 - accuracy: 0.8240\n",
      "Epoch 11/50\n",
      "801/801 [==============================] - 63s 78ms/step - loss: 0.3376 - accuracy: 0.8525\n",
      "Epoch 12/50\n",
      "801/801 [==============================] - 63s 78ms/step - loss: 0.2691 - accuracy: 0.8879\n",
      "Epoch 13/50\n",
      "801/801 [==============================] - 63s 78ms/step - loss: 0.1883 - accuracy: 0.9234\n",
      "Epoch 14/50\n",
      "801/801 [==============================] - 63s 78ms/step - loss: 0.1170 - accuracy: 0.9532\n",
      "Epoch 15/50\n",
      "801/801 [==============================] - 63s 78ms/step - loss: 0.1009 - accuracy: 0.9621\n",
      "Epoch 16/50\n",
      "801/801 [==============================] - 63s 78ms/step - loss: 0.0623 - accuracy: 0.9783\n",
      "Epoch 17/50\n",
      "801/801 [==============================] - 63s 78ms/step - loss: 0.0578 - accuracy: 0.9803\n",
      "Epoch 18/50\n",
      "801/801 [==============================] - 63s 78ms/step - loss: 0.0464 - accuracy: 0.9820\n",
      "Epoch 19/50\n",
      "801/801 [==============================] - 63s 78ms/step - loss: 0.0449 - accuracy: 0.9866\n",
      "Epoch 20/50\n",
      "801/801 [==============================] - 63s 78ms/step - loss: 0.0421 - accuracy: 0.9855\n",
      "Epoch 21/50\n",
      "801/801 [==============================] - 63s 78ms/step - loss: 0.0396 - accuracy: 0.9864\n",
      "Epoch 22/50\n",
      "801/801 [==============================] - 63s 78ms/step - loss: 0.0330 - accuracy: 0.9898\n",
      "Epoch 23/50\n",
      "801/801 [==============================] - 63s 78ms/step - loss: 0.0416 - accuracy: 0.9870\n",
      "Epoch 24/50\n",
      "801/801 [==============================] - 63s 78ms/step - loss: 0.0215 - accuracy: 0.9941\n",
      "Epoch 25/50\n",
      "801/801 [==============================] - 63s 78ms/step - loss: 0.0290 - accuracy: 0.9909\n",
      "Epoch 26/50\n",
      "801/801 [==============================] - 63s 78ms/step - loss: 0.0283 - accuracy: 0.9908\n",
      "Epoch 27/50\n",
      "801/801 [==============================] - 63s 78ms/step - loss: 0.0303 - accuracy: 0.9906\n",
      "Epoch 28/50\n",
      "801/801 [==============================] - 63s 78ms/step - loss: 0.0234 - accuracy: 0.9919\n",
      "Epoch 29/50\n",
      "801/801 [==============================] - 63s 78ms/step - loss: 0.0332 - accuracy: 0.9890\n",
      "Epoch 30/50\n",
      "801/801 [==============================] - 63s 78ms/step - loss: 0.0297 - accuracy: 0.9909\n",
      "Epoch 31/50\n",
      "801/801 [==============================] - 63s 78ms/step - loss: 0.0255 - accuracy: 0.9925\n",
      "Epoch 32/50\n",
      "801/801 [==============================] - 63s 78ms/step - loss: 0.0248 - accuracy: 0.9920\n",
      "Epoch 33/50\n",
      "801/801 [==============================] - 63s 78ms/step - loss: 0.0206 - accuracy: 0.9936\n",
      "Epoch 34/50\n",
      "801/801 [==============================] - 63s 78ms/step - loss: 0.0199 - accuracy: 0.9939\n",
      "Epoch 35/50\n",
      "801/801 [==============================] - 63s 78ms/step - loss: 0.0166 - accuracy: 0.9954\n",
      "Epoch 36/50\n",
      "801/801 [==============================] - 63s 78ms/step - loss: 0.0245 - accuracy: 0.9928\n",
      "Epoch 37/50\n",
      "801/801 [==============================] - 63s 78ms/step - loss: 0.0121 - accuracy: 0.9960\n",
      "Epoch 38/50\n",
      "801/801 [==============================] - 63s 78ms/step - loss: 0.0261 - accuracy: 0.9918\n",
      "Epoch 39/50\n",
      "801/801 [==============================] - 63s 78ms/step - loss: 0.0216 - accuracy: 0.9929\n",
      "Epoch 40/50\n",
      "801/801 [==============================] - 63s 78ms/step - loss: 0.0250 - accuracy: 0.9928\n",
      "Epoch 41/50\n",
      "801/801 [==============================] - 63s 78ms/step - loss: 0.0131 - accuracy: 0.9963\n",
      "Epoch 42/50\n",
      "801/801 [==============================] - 63s 78ms/step - loss: 0.0147 - accuracy: 0.9963\n",
      "Epoch 43/50\n",
      "801/801 [==============================] - 63s 78ms/step - loss: 0.0276 - accuracy: 0.9911\n",
      "Epoch 44/50\n",
      "801/801 [==============================] - 63s 78ms/step - loss: 0.0124 - accuracy: 0.9969\n",
      "Epoch 45/50\n",
      "801/801 [==============================] - 63s 78ms/step - loss: 0.0238 - accuracy: 0.9923\n",
      "Epoch 46/50\n",
      "801/801 [==============================] - 63s 78ms/step - loss: 0.0128 - accuracy: 0.9958\n",
      "Epoch 47/50\n",
      "801/801 [==============================] - 63s 78ms/step - loss: 0.0098 - accuracy: 0.9976\n",
      "Epoch 48/50\n",
      "801/801 [==============================] - 63s 78ms/step - loss: 0.0188 - accuracy: 0.9944\n",
      "Epoch 49/50\n",
      "801/801 [==============================] - 63s 78ms/step - loss: 0.0224 - accuracy: 0.9945\n",
      "Epoch 50/50\n",
      "801/801 [==============================] - 63s 78ms/step - loss: 0.0257 - accuracy: 0.9930\n"
     ]
    }
   ],
   "source": [
    "model.compile(optimizer=keras.optimizers.Adam(learning_rate=lr),\n",
    "     loss='categorical_crossentropy', metrics=['accuracy'])\n",
    "\n",
    "history = model.fit(x=train_batches, epochs=epochs, verbose=1)"
   ]
  },
  {
   "cell_type": "code",
   "execution_count": 8,
   "metadata": {},
   "outputs": [],
   "source": [
    "import datetime\n",
    "datetime_dt = datetime.datetime.today()# 獲得當地時間\n",
    "datetime_str = datetime_dt.strftime(\"%Y-%m-%d_%H-%M\")\n",
    "model.save(f'{model.name}_{datetime_str}.h5')"
   ]
  },
  {
   "cell_type": "code",
   "execution_count": 9,
   "metadata": {},
   "outputs": [
    {
     "data": {
      "text/html": [
       "<div>\n",
       "<style scoped>\n",
       "    .dataframe tbody tr th:only-of-type {\n",
       "        vertical-align: middle;\n",
       "    }\n",
       "\n",
       "    .dataframe tbody tr th {\n",
       "        vertical-align: top;\n",
       "    }\n",
       "\n",
       "    .dataframe thead th {\n",
       "        text-align: right;\n",
       "    }\n",
       "</style>\n",
       "<table border=\"1\" class=\"dataframe\">\n",
       "  <thead>\n",
       "    <tr style=\"text-align: right;\">\n",
       "      <th></th>\n",
       "      <th>loss</th>\n",
       "      <th>accuracy</th>\n",
       "    </tr>\n",
       "  </thead>\n",
       "  <tbody>\n",
       "    <tr>\n",
       "      <th>45</th>\n",
       "      <td>0.012761</td>\n",
       "      <td>0.995753</td>\n",
       "    </tr>\n",
       "    <tr>\n",
       "      <th>46</th>\n",
       "      <td>0.009781</td>\n",
       "      <td>0.997626</td>\n",
       "    </tr>\n",
       "    <tr>\n",
       "      <th>47</th>\n",
       "      <td>0.018828</td>\n",
       "      <td>0.994379</td>\n",
       "    </tr>\n",
       "    <tr>\n",
       "      <th>48</th>\n",
       "      <td>0.022460</td>\n",
       "      <td>0.994503</td>\n",
       "    </tr>\n",
       "    <tr>\n",
       "      <th>49</th>\n",
       "      <td>0.025677</td>\n",
       "      <td>0.993004</td>\n",
       "    </tr>\n",
       "  </tbody>\n",
       "</table>\n",
       "</div>"
      ],
      "text/plain": [
       "        loss  accuracy\n",
       "45  0.012761  0.995753\n",
       "46  0.009781  0.997626\n",
       "47  0.018828  0.994379\n",
       "48  0.022460  0.994503\n",
       "49  0.025677  0.993004"
      ]
     },
     "execution_count": 9,
     "metadata": {},
     "output_type": "execute_result"
    }
   ],
   "source": [
    "import pandas as pd\n",
    "history_frame = pd.DataFrame(history.history)\n",
    "history_frame.tail()"
   ]
  },
  {
   "cell_type": "code",
   "execution_count": 10,
   "metadata": {},
   "outputs": [
    {
     "data": {
      "image/png": "[encoded data removed]",
      "text/plain": [
       "<Figure size 432x288 with 1 Axes>"
      ]
     },
     "metadata": {
      "needs_background": "light"
     },
     "output_type": "display_data"
    },
    {
     "data": {
      "image/png": "[encoded data removed]",
      "text/plain": [
       "<Figure size 432x288 with 1 Axes>"
      ]
     },
     "metadata": {
      "needs_background": "light"
     },
     "output_type": "display_data"
    }
   ],
   "source": [
    "history_frame.loc[:, ['loss']].plot()\n",
    "plt.savefig(f'{model.name}_loss_{datetime_str}.png')\n",
    "history_frame.loc[:, ['accuracy']].plot()\n",
    "plt.savefig(f'{model.name}_acc_{datetime_str}.png')"
   ]
  },
  {
   "cell_type": "code",
   "execution_count": 11,
   "metadata": {},
   "outputs": [
    {
     "name": "stderr",
     "output_type": "stream",
     "text": [
      "Clipping input data to the valid range for imshow with RGB data ([0..1] for floats or [0..255] for integers).\n",
      "Clipping input data to the valid range for imshow with RGB data ([0..1] for floats or [0..255] for integers).\n",
      "Clipping input data to the valid range for imshow with RGB data ([0..1] for floats or [0..255] for integers).\n",
      "Clipping input data to the valid range for imshow with RGB data ([0..1] for floats or [0..255] for integers).\n",
      "Clipping input data to the valid range for imshow with RGB data ([0..1] for floats or [0..255] for integers).\n",
      "Clipping input data to the valid range for imshow with RGB data ([0..1] for floats or [0..255] for integers).\n",
      "Clipping input data to the valid range for imshow with RGB data ([0..1] for floats or [0..255] for integers).\n",
      "Clipping input data to the valid range for imshow with RGB data ([0..1] for floats or [0..255] for integers).\n",
      "Clipping input data to the valid range for imshow with RGB data ([0..1] for floats or [0..255] for integers).\n",
      "Clipping input data to the valid range for imshow with RGB data ([0..1] for floats or [0..255] for integers).\n"
     ]
    },
    {
     "data": {
      "image/png": "[encoded data removed]",
      "text/plain": [
       "<Figure size 360x360 with 10 Axes>"
      ]
     },
     "metadata": {},
     "output_type": "display_data"
    },
    {
     "name": "stdout",
     "output_type": "stream",
     "text": [
      "[[1. 0.]\n",
      " [1. 0.]\n",
      " [1. 0.]\n",
      " [1. 0.]\n",
      " [1. 0.]\n",
      " [1. 0.]\n",
      " [1. 0.]\n",
      " [1. 0.]\n",
      " [1. 0.]\n",
      " [1. 0.]]\n"
     ]
    }
   ],
   "source": [
    "test_imgs, test_labels = next(test_batches)\n",
    "plotImages(test_imgs)\n",
    "print(test_labels)"
   ]
  },
  {
   "cell_type": "code",
   "execution_count": 12,
   "metadata": {},
   "outputs": [
    {
     "name": "stdout",
     "output_type": "stream",
     "text": [
      "10/10 [==============================] - 0s 19ms/sample - loss: 2.7377 - accuracy: 0.8000\n",
      "Test loss: 2.73773193359375\n",
      "Test accuracy: 0.8\n"
     ]
    }
   ],
   "source": [
    "x, y = next(test_batches)\n",
    "test_scores = model.evaluate(x, y, verbose=1)\n",
    "print(\"Test loss:\", test_scores[0])\n",
    "print(\"Test accuracy:\", test_scores[1])"
   ]
  },
  {
   "cell_type": "code",
   "execution_count": 13,
   "metadata": {},
   "outputs": [
    {
     "name": "stdout",
     "output_type": "stream",
     "text": [
      "203/203 - 5s\n"
     ]
    }
   ],
   "source": [
    "predictions = model.predict(x=test_batches, verbose=2)"
   ]
  },
  {
   "cell_type": "code",
   "execution_count": 14,
   "metadata": {},
   "outputs": [
    {
     "data": {
      "text/plain": [
       "(2023, 2)"
      ]
     },
     "execution_count": 14,
     "metadata": {},
     "output_type": "execute_result"
    }
   ],
   "source": [
    "predictions.shape"
   ]
  },
  {
   "cell_type": "code",
   "execution_count": 15,
   "metadata": {},
   "outputs": [
    {
     "data": {
      "text/plain": [
       "array([0, 0, 0, ..., 1, 1, 1])"
      ]
     },
     "execution_count": 15,
     "metadata": {},
     "output_type": "execute_result"
    }
   ],
   "source": [
    "y_true = test_batches.classes\n",
    "y_true"
   ]
  },
  {
   "cell_type": "code",
   "execution_count": 16,
   "metadata": {},
   "outputs": [
    {
     "data": {
      "text/plain": [
       "(2023,)"
      ]
     },
     "execution_count": 16,
     "metadata": {},
     "output_type": "execute_result"
    }
   ],
   "source": [
    "y_true.shape"
   ]
  },
  {
   "cell_type": "code",
   "execution_count": 17,
   "metadata": {},
   "outputs": [
    {
     "data": {
      "text/plain": [
       "array([0, 0, 0, ..., 0, 1, 1], dtype=int64)"
      ]
     },
     "execution_count": 17,
     "metadata": {},
     "output_type": "execute_result"
    }
   ],
   "source": [
    "y_pred = np.argmax(predictions, axis=-1)\n",
    "y_pred"
   ]
  },
  {
   "cell_type": "code",
   "execution_count": 18,
   "metadata": {},
   "outputs": [
    {
     "data": {
      "text/plain": [
       "(2023,)"
      ]
     },
     "execution_count": 18,
     "metadata": {},
     "output_type": "execute_result"
    }
   ],
   "source": [
    "y_pred.shape"
   ]
  },
  {
   "cell_type": "code",
   "execution_count": 19,
   "metadata": {},
   "outputs": [
    {
     "data": {
      "text/plain": [
       "array([[843, 168],\n",
       "       [255, 757]], dtype=int64)"
      ]
     },
     "execution_count": 19,
     "metadata": {},
     "output_type": "execute_result"
    }
   ],
   "source": [
    "from sklearn.metrics import confusion_matrix\n",
    "cm = confusion_matrix(y_true=y_true, y_pred=y_pred)\n",
    "cm"
   ]
  },
  {
   "cell_type": "code",
   "execution_count": 20,
   "metadata": {},
   "outputs": [],
   "source": [
    "import itertools\n",
    "def plot_confusion_matrix(cm, classes,\n",
    "                          normalize=False,\n",
    "                          title='Confusion matrix',\n",
    "                          cmap=plt.cm.Blues,\n",
    "                          date=''):\n",
    "    \"\"\"\n",
    "    This function prints and plots the confusion matrix.\n",
    "    Normalization can be applied by setting `normalize=True`.\n",
    "    \"\"\"\n",
    "    test_accuracy = (cm[0][0] + cm[1][1]) /(cm[0][0] + cm[0][1] + cm[1][0] + cm[1][1])\n",
    "    plt.imshow(cm, interpolation='nearest', cmap=cmap)\n",
    "    plt.title(f'{title}, test_acc: {round(test_accuracy,3)}')\n",
    "    plt.colorbar()\n",
    "    tick_marks = np.arange(len(classes))\n",
    "    plt.xticks(tick_marks, classes, rotation=45)\n",
    "    plt.yticks(tick_marks, classes)\n",
    "\n",
    "    if normalize:\n",
    "        cm = cm.astype('float') / cm.sum(axis=1)[:, np.newaxis]\n",
    "        print(\"Normalized confusion matrix\")\n",
    "    else:\n",
    "        print('Confusion matrix, without normalization')\n",
    "\n",
    "    #print(cm)\n",
    "\n",
    "    thresh = cm.max() / 2.\n",
    "    for i, j in itertools.product(range(cm.shape[0]), range(cm.shape[1])):\n",
    "        plt.text(j, i, cm[i, j],\n",
    "            horizontalalignment=\"center\",\n",
    "            color=\"white\" if cm[i, j] > thresh else \"black\")\n",
    "    \n",
    "    plt.tight_layout()\n",
    "    plt.ylabel('True label')\n",
    "    plt.xlabel('Predicted label')\n",
    "    plt.savefig(f'confusion-maxtrix_{date}.png')"
   ]
  },
  {
   "cell_type": "code",
   "execution_count": 21,
   "metadata": {},
   "outputs": [
    {
     "name": "stdout",
     "output_type": "stream",
     "text": [
      "Confusion matrix, without normalization\n"
     ]
    },
    {
     "data": {
      "image/png": "[encoded data removed]",
      "text/plain": [
       "<Figure size 432x288 with 2 Axes>"
      ]
     },
     "metadata": {
      "needs_background": "light"
     },
     "output_type": "display_data"
    }
   ],
   "source": [
    "plot_confusion_matrix(cm=cm, classes=classes, title='Confusion Matrix', date=datetime_str)"
   ]
  },
  {
   "cell_type": "code",
   "execution_count": null,
   "metadata": {},
   "outputs": [],
   "source": []
  }
 ],
 "metadata": {
  "kernelspec": {
   "display_name": "Python 3",
   "language": "python",
   "name": "python3"
  },
  "language_info": {
   "codemirror_mode": {
    "name": "ipython",
    "version": 3
   },
   "file_extension": ".py",
   "mimetype": "text/x-python",
   "name": "python",
   "nbconvert_exporter": "python",
   "pygments_lexer": "ipython3",
   "version": "3.6.9"
  }
 },
 "nbformat": 4,
 "nbformat_minor": 4
}
